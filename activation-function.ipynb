version https://git-lfs.github.com/spec/v1
oid sha256:74b47f7a9eb73baa64c7fb695e5364d3e58ac4c3bba5db58bdfbaa81fc5f6a44
size 78807
