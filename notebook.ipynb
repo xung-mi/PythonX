{
 "cells": [
  {
   "cell_type": "markdown",
   "metadata": {},
   "source": [
    "https://www.youtube.com/watch?v=HaYp6v5udgk"
   ]
  },
  {
   "cell_type": "code",
   "execution_count": 4,
   "metadata": {},
   "outputs": [],
   "source": [
    "import tensorflow as tf"
   ]
  },
  {
   "cell_type": "code",
   "execution_count": 6,
   "metadata": {},
   "outputs": [
    {
     "data": {
      "text/plain": [
       "[PhysicalDevice(name='/physical_device:GPU:0', device_type='GPU')]"
      ]
     },
     "execution_count": 6,
     "metadata": {},
     "output_type": "execute_result"
    }
   ],
   "source": [
    "tf.config.list_physical_devices('GPU')"
   ]
  },
  {
   "cell_type": "markdown",
   "metadata": {},
   "source": [
    "# Yolo\n",
    "- yolo là thuật toán phát hiện vật thể thời gian thực.\n",
    "- là mô hình deep learning dựa trên mạng CNN, được sử dụng để nhận diện và xác định vị trí của nhiều đối tượng trong 1 hình ảnh hoặc video\n",
    "## đặc điểm chính\n",
    "- phát hiện nhanh: chỉ quét qua hình ảnh 1 lần, giúp tốc độ xử lý nhanh hơn các mô hình RCNN, Fast RCNN\n",
    "- phát hiện chính xác: phát hiện đối tượng với độ chính xác cao, phát hiện nhiều vật thể trong cùng 1 hình ảnh\n",
    "- làm việc theo lưới: hình ảnh chia thành các ô lưới, mỗi ô sẽ dự đoán các bounding box kèm theo nhãn của vật thể\n",
    "## các loại yolo\n",
    "- yolo v1 2015: Joseph, dùng 1 mạng cnn duy nhất để dự đoán bounding box và nhãn đối tượng cùng 1 lúc. Tốc độ nhanh, độ chính xác thấp, đặc biệt vật thể nhỏ\n",
    "- yolov2 2016: cải thiện bằng cách sử dụng __batch normalization__ và anchor boxes. Có thể nhận diện hơn 9000 loại đối tượng khác nhau.\n",
    "- yolov3 2018: sử dụng kiến trúc darknet-53"
   ]
  },
  {
   "cell_type": "code",
   "execution_count": null,
   "metadata": {},
   "outputs": [],
   "source": []
  }
 ],
 "metadata": {
  "kernelspec": {
   "display_name": "tf-gpu",
   "language": "python",
   "name": "python3"
  },
  "language_info": {
   "codemirror_mode": {
    "name": "ipython",
    "version": 3
   },
   "file_extension": ".py",
   "mimetype": "text/x-python",
   "name": "python",
   "nbconvert_exporter": "python",
   "pygments_lexer": "ipython3",
   "version": "3.9.19"
  }
 },
 "nbformat": 4,
 "nbformat_minor": 2
}
