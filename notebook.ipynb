{
 "cells": [
  {
   "cell_type": "markdown",
   "metadata": {},
   "source": [
    "https://www.youtube.com/watch?v=HaYp6v5udgk"
   ]
  },
  {
   "cell_type": "code",
   "execution_count": 4,
   "metadata": {},
   "outputs": [],
   "source": [
    "import tensorflow as tf"
   ]
  },
  {
   "cell_type": "code",
   "execution_count": 6,
   "metadata": {},
   "outputs": [
    {
     "data": {
      "text/plain": [
       "[PhysicalDevice(name='/physical_device:GPU:0', device_type='GPU')]"
      ]
     },
     "execution_count": 6,
     "metadata": {},
     "output_type": "execute_result"
    }
   ],
   "source": [
    "tf.config.list_physical_devices('GPU')"
   ]
  },
  {
   "cell_type": "markdown",
   "metadata": {},
   "source": [
    "# Yolo\n",
    "- yolo là thuật toán phát hiện vật thể thời gian thực.\n",
    "- là mô hình deep learning dựa trên mạng CNN, được sử dụng để nhận diện và xác định vị trí của nhiều đối tượng trong 1 hình ảnh hoặc video\n",
    "## đặc điểm chính\n",
    "- phát hiện nhanh: chỉ quét qua hình ảnh 1 lần, giúp tốc độ xử lý nhanh hơn các mô hình RCNN, Fast RCNN\n",
    "- phát hiện chính xác: phát hiện đối tượng với độ chính xác cao, phát hiện nhiều vật thể trong cùng 1 hình ảnh\n",
    "- làm việc theo lưới: hình ảnh chia thành các ô lưới, mỗi ô sẽ dự đoán các bounding box kèm theo nhãn của vật thể\n",
    "## các loại yolo\n",
    "- yolo v1 2015: Darknet để dự đoán __bounding box__ và nhãn đối tượng cùng 1 lúc. Tốc độ nhanh, độ chính xác thấp, đặc biệt vật thể nhỏ\n",
    "- yolov2 2016: Darknet-19, cải thiện bằng cách sử dụng __batch normalization__ và __anchor boxes__. Có thể nhận diện hơn 9000 loại đối tượng khác nhau.\n",
    "- yolov3 2018: \n",
    "    - sử dụng kiến trúc __darknet-53__, tăng khả năng trích xuất đặc trưng\n",
    "    - Phát hiện đa cấp độ (multi-scale detection) bằng cách sử dụng Feature Pyramid Network (FPN)\n",
    "- yolov4 2020 : Darknet-based\n",
    "    - __CSPDarknet53__, tăng tốc độ và giảm số lượng phép tính\n",
    "    - dùng Mish Activation, SPP (Spatial Pyramid Pooling), PAN (Path Aggregation Network) để tăng hiệu suất\n",
    "- yolov5 2020: Pytorch-based\n",
    "    - Viết lại bằng PyTorch, bỏ Darknet\n",
    "    - Dễ triển khai hơn và có nhiều kích thước mô hình: YOLOv5s, YOLOv5m, YOLOv5l, YOLOv5x\n",
    "- yolov6 2022: tối ưu hóa cho AI công nghiệp\n",
    "    - Bỏ Darknet, thay bằng __Anchor-free detector__\n",
    "- yolov7 2022: Darknet-based\n",
    "    - cải tiến từ yolov4 và v6\n",
    "    - Tập trung tối ưu __Inference Speed__\n",
    "- yolov8 2023: Pytorch-based\n",
    "     - Dễ dàng huấn luyện và tùy chỉnh, hỗ trợ cả Instance Segmentation & Object Detection\n",
    "- yolov9 2024: \n",
    "    - Programmable Gradient Information (PGI) : Giải quyết vấn đề mất mát thông tin trong các mạng nơ-ron sâu bằng cách cung cấp các gradient đáng tin cậy\n",
    "    - Generalized Efficient Layer Aggregation Network (GELAN): Một kiến trúc mạng mới cho phép tích hợp linh hoạt các khối tính toán khác nhau, tối ưu hóa việc sử dụng tham số và hiệu suất tính toán, đồng thời duy trì độ chính xác cao"
   ]
  },
  {
   "cell_type": "markdown",
   "metadata": {},
   "source": [
    "# Darknet\n",
    "- phát triển bằng C và Cuda, phục vụ cho bài toán object detection\n",
    "- "
   ]
  },
  {
   "cell_type": "code",
   "execution_count": null,
   "metadata": {},
   "outputs": [],
   "source": []
  }
 ],
 "metadata": {
  "kernelspec": {
   "display_name": "tf-gpu",
   "language": "python",
   "name": "python3"
  },
  "language_info": {
   "codemirror_mode": {
    "name": "ipython",
    "version": 3
   },
   "file_extension": ".py",
   "mimetype": "text/x-python",
   "name": "python",
   "nbconvert_exporter": "python",
   "pygments_lexer": "ipython3",
   "version": "3.9.19"
  }
 },
 "nbformat": 4,
 "nbformat_minor": 2
}
